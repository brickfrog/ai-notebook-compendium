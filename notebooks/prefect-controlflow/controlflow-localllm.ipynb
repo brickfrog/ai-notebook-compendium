{
 "cells": [
  {
   "cell_type": "markdown",
   "id": "7ef17e56-cff5-4f0a-97e2-b24a3c46f099",
   "metadata": {},
   "source": [
    "## Rudimentary Example Showing Local LLM as Tool"
   ]
  },
  {
   "cell_type": "code",
   "execution_count": 1,
   "id": "eaa8164d-73f3-49fe-b307-f4e19ed068e1",
   "metadata": {},
   "outputs": [],
   "source": [
    "import controlflow as cf\n",
    "from openai import OpenAI\n",
    "\n",
    "# set the default model as a string\n",
    "cf.defaults.model = \"openai/gpt-4o-mini\""
   ]
  },
  {
   "cell_type": "code",
   "execution_count": 2,
   "id": "85cb8f55-65cb-40c8-8265-3b49d9cb51e8",
   "metadata": {},
   "outputs": [],
   "source": [
    "from openai import OpenAI\n",
    "\n",
    "# client setup without an API key\n",
    "client = OpenAI(base_url=\"http://192.168.1.20:11434/v1\", default_headers={})\n",
    "\n",
    "def llama_chat(prompt: str) -> str:\n",
    "    \"\"\"Call the local LLM to get a response for a given prompt.\"\"\"\n",
    "    response = client.chat.completions.create(\n",
    "        model=\"llama3:latest\",\n",
    "        messages=[{\"role\": \"user\", \"content\": prompt}]\n",
    "    )\n",
    "    return response.choices[0].message.content"
   ]
  },
  {
   "cell_type": "code",
   "execution_count": 3,
   "id": "39f660f8-8329-46be-bd4e-5fbe763963bb",
   "metadata": {},
   "outputs": [
    {
     "data": {
      "application/vnd.jupyter.widget-view+json": {
       "model_id": "9506d529ae824c1ba1b59296da9ff1a5",
       "version_major": 2,
       "version_minor": 0
      },
      "text/plain": [
       "Output()"
      ]
     },
     "metadata": {},
     "output_type": "display_data"
    },
    {
     "data": {
      "text/html": [
       "<pre style=\"white-space:pre;overflow-x:auto;line-height:normal;font-family:Menlo,'DejaVu Sans Mono',consolas,'Courier New',monospace\"></pre>\n"
      ],
      "text/plain": []
     },
     "metadata": {},
     "output_type": "display_data"
    },
    {
     "data": {
      "text/plain": [
       "\"Hello there! Yes, I am indeed Llama3! It's nice to meet you! How can I assist you today?\""
      ]
     },
     "execution_count": 3,
     "metadata": {},
     "output_type": "execute_result"
    }
   ],
   "source": [
    "cf.run(\n",
    "    \"Hi, are you llama3?\", \n",
    "    tools=[llama_chat])"
   ]
  },
  {
   "cell_type": "code",
   "execution_count": null,
   "id": "a00d65b0-d1a3-491d-a080-55bb0763441f",
   "metadata": {},
   "outputs": [],
   "source": []
  }
 ],
 "metadata": {
  "kernelspec": {
   "display_name": "Python 3 (ipykernel)",
   "language": "python",
   "name": "python3"
  },
  "language_info": {
   "codemirror_mode": {
    "name": "ipython",
    "version": 3
   },
   "file_extension": ".py",
   "mimetype": "text/x-python",
   "name": "python",
   "nbconvert_exporter": "python",
   "pygments_lexer": "ipython3",
   "version": "3.12.7"
  }
 },
 "nbformat": 4,
 "nbformat_minor": 5
}
